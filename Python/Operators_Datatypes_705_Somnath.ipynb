{
 "cells": [
  {
   "cell_type": "markdown",
   "id": "cf71f455",
   "metadata": {},
   "source": [
    "# Keywords:\n",
    "\n",
    "- Keywords are tghe reserved in python programming language.\n",
    "- It is used to define syntax of the program.\n",
    "- It cannot be used as identifier, functions & variable name.\n",
    "- All keywords in python are written in lower case except True , False & None\n",
    "- They is case sensitive."
   ]
  },
  {
   "cell_type": "markdown",
   "id": "b9761f81",
   "metadata": {},
   "source": [
    "# Operaters:\n",
    "## They are used to perform operations on variables.\n",
    "## 1) Arithmatic operator:\n",
    "-     (+) addition x+y\n",
    "-     (-) subtrtaction x-y\n",
    "-     (*) Multipication x*y\n",
    "-     (/) Division x/y\n",
    "-     (%) modulus x%y\n",
    "-     (* *) Exponentiation (x* *y)\n",
    "-     (//) floor division x//y"
   ]
  },
  {
   "cell_type": "markdown",
   "id": "f97284d1",
   "metadata": {},
   "source": [
    "##  Write a python program to take thre input from user and perform Addition of first two number and resultant of additon value is multiply by third no of the user."
   ]
  },
  {
   "cell_type": "code",
   "execution_count": 6,
   "id": "6169f354",
   "metadata": {},
   "outputs": [
    {
     "name": "stdout",
     "output_type": "stream",
     "text": [
      "Enter your first number : 5\n",
      "Enter your second number : 6\n",
      "Enter your third numberr : 7\n",
      "Addition is : 11\n",
      "Multiplication is : 77\n"
     ]
    }
   ],
   "source": [
    "a= input(\"Enter your first number : \")\n",
    "b = input(\"Enter your second number : \")\n",
    "c = input(\"Enter your third numberr : \")\n",
    "d=int(a)+int(b)\n",
    "print(\"Addition is :\",d)\n",
    "e=int(d)*int(c)\n",
    "print(\"Multiplication is :\",e)"
   ]
  },
  {
   "cell_type": "code",
   "execution_count": 7,
   "id": "8ef1ba35",
   "metadata": {},
   "outputs": [
    {
     "name": "stdout",
     "output_type": "stream",
     "text": [
      "Enter your first number :5\n",
      "Enter your second number :6\n",
      "Enter your third number : 8\n",
      "add is : 11\n",
      "mul is : 88\n"
     ]
    }
   ],
   "source": [
    "a= int(input(\"Enter your first number :\"))\n",
    "b = int(input(\"Enter your second number :\"))\n",
    "c = int(input(\"Enter your third number : \"))\n",
    "d=(a)+(b)\n",
    "print(\"add is :\",d)\n",
    "e=(d)*(c)\n",
    "print(\"mul is :\",e)"
   ]
  },
  {
   "cell_type": "markdown",
   "id": "a25ada07",
   "metadata": {},
   "source": [
    "### Write a python program to take five input from user , first two be float number , and last two be integer value , midle value is name of user \n",
    "1. divide the last inputs number with first floting point number.\n",
    "2. perform mul of second input number with second last input number\n",
    "3. display name of the user with a prefix \"you are not intelligent\" "
   ]
  },
  {
   "cell_type": "code",
   "execution_count": 11,
   "id": "a80d165c",
   "metadata": {},
   "outputs": [
    {
     "name": "stdout",
     "output_type": "stream",
     "text": [
      "Enter your First number :8\n",
      "Enter your second number :8\n",
      "Enter your name : 464\n",
      "Enter your third number :48\n",
      "Enter your fourth number :3\n",
      "divide 0.375\n",
      "mul 384.0\n",
      "You are not intelligent 464\n"
     ]
    }
   ],
   "source": [
    "a = float(input(\"Enter your First number :\"))\n",
    "b = float(input(\"Enter your second number :\"))\n",
    "c = str(input(\"Enter your name : \"))\n",
    "d = int(input(\"Enter your third number :\"))\n",
    "e = int(input(\"Enter your fourth number :\"))\n",
    "f=e/a\n",
    "print(\"divide\",f)\n",
    "g=b*d\n",
    "print(\"mul\",g)\n",
    "print(\"You are not intelligent\",c)"
   ]
  },
  {
   "cell_type": "markdown",
   "id": "d0802dc2",
   "metadata": {},
   "source": [
    "## Assignment operators"
   ]
  },
  {
   "cell_type": "code",
   "execution_count": 12,
   "id": "2b55b515",
   "metadata": {},
   "outputs": [],
   "source": [
    "x = 4"
   ]
  },
  {
   "cell_type": "code",
   "execution_count": 13,
   "id": "fd13582c",
   "metadata": {},
   "outputs": [
    {
     "name": "stdout",
     "output_type": "stream",
     "text": [
      "6\n"
     ]
    }
   ],
   "source": [
    "x+=2\n",
    "print(x)"
   ]
  },
  {
   "cell_type": "code",
   "execution_count": 14,
   "id": "e4a2dc53",
   "metadata": {},
   "outputs": [
    {
     "name": "stdout",
     "output_type": "stream",
     "text": [
      "3\n"
     ]
    }
   ],
   "source": [
    "x-=3\n",
    "print(x)\n"
   ]
  },
  {
   "cell_type": "code",
   "execution_count": 15,
   "id": "7717af50",
   "metadata": {},
   "outputs": [
    {
     "name": "stdout",
     "output_type": "stream",
     "text": [
      "21\n"
     ]
    }
   ],
   "source": [
    "x*=7\n",
    "print(x)"
   ]
  },
  {
   "cell_type": "code",
   "execution_count": 16,
   "id": "b0cc8424",
   "metadata": {},
   "outputs": [
    {
     "name": "stdout",
     "output_type": "stream",
     "text": [
      "5.25\n"
     ]
    }
   ],
   "source": [
    "x/=4\n",
    "print(x)"
   ]
  },
  {
   "cell_type": "code",
   "execution_count": 17,
   "id": "9f9eb021",
   "metadata": {},
   "outputs": [
    {
     "name": "stdout",
     "output_type": "stream",
     "text": [
      "1.25\n"
     ]
    }
   ],
   "source": [
    "x%=4\n",
    "print(x)"
   ]
  },
  {
   "cell_type": "code",
   "execution_count": 18,
   "id": "f3526c95",
   "metadata": {},
   "outputs": [],
   "source": [
    "x=5"
   ]
  },
  {
   "cell_type": "code",
   "execution_count": 19,
   "id": "6d0b66cd",
   "metadata": {},
   "outputs": [
    {
     "name": "stdout",
     "output_type": "stream",
     "text": [
      "0\n"
     ]
    }
   ],
   "source": [
    "x//=6\n",
    "print(x)"
   ]
  },
  {
   "cell_type": "code",
   "execution_count": 20,
   "id": "aa59e065",
   "metadata": {},
   "outputs": [
    {
     "name": "stdout",
     "output_type": "stream",
     "text": [
      "0\n"
     ]
    }
   ],
   "source": [
    "x**=7\n",
    "print(x)"
   ]
  },
  {
   "cell_type": "code",
   "execution_count": 21,
   "id": "f16fe4e5",
   "metadata": {},
   "outputs": [
    {
     "name": "stdout",
     "output_type": "stream",
     "text": [
      "5\n"
     ]
    }
   ],
   "source": [
    "x=5\n",
    "x&=5\n",
    "print(x)"
   ]
  },
  {
   "cell_type": "code",
   "execution_count": 22,
   "id": "cdb777db",
   "metadata": {},
   "outputs": [
    {
     "name": "stdout",
     "output_type": "stream",
     "text": [
      "5\n"
     ]
    }
   ],
   "source": [
    "x|=4\n",
    "print(x)"
   ]
  },
  {
   "cell_type": "code",
   "execution_count": 23,
   "id": "b4236d84",
   "metadata": {},
   "outputs": [
    {
     "name": "stdout",
     "output_type": "stream",
     "text": [
      "5\n"
     ]
    }
   ],
   "source": [
    "x!=4\n",
    "print(x)"
   ]
  },
  {
   "cell_type": "markdown",
   "id": "a6f99291",
   "metadata": {},
   "source": [
    "## Data Types"
   ]
  },
  {
   "cell_type": "code",
   "execution_count": 24,
   "id": "5523ae97",
   "metadata": {},
   "outputs": [],
   "source": [
    "e= list((\"apple\",\"banana\",\"cherry\"))#list\n",
    "f=tuple((\"apple\",\"banana\",\"cherry\"))#tuple\n",
    "g=range(6) #range\n",
    "h=dict(name=\"john\",age=36)#dict\n",
    "i=set((\"apple\",\"banana\",\"cherry\"))#set\n",
    "j= frozenset((\"apple\",\"banana\",\"cherry\"))"
   ]
  },
  {
   "cell_type": "code",
   "execution_count": 25,
   "id": "e4993ee6",
   "metadata": {},
   "outputs": [
    {
     "name": "stdout",
     "output_type": "stream",
     "text": [
      "['apple', 'banana', 'cherry']\n",
      "('apple', 'banana', 'cherry')\n",
      "range(0, 6)\n",
      "{'name': 'john', 'age': 36}\n",
      "{'banana', 'apple', 'cherry'}\n",
      "frozenset({'banana', 'apple', 'cherry'})\n"
     ]
    }
   ],
   "source": [
    "print(e)\n",
    "print(f)\n",
    "print(g)\n",
    "print(h)\n",
    "print(i)\n",
    "print(j)\n"
   ]
  },
  {
   "cell_type": "code",
   "execution_count": null,
   "id": "d009814c",
   "metadata": {},
   "outputs": [],
   "source": []
  }
 ],
 "metadata": {
  "kernelspec": {
   "display_name": "Python 3 (ipykernel)",
   "language": "python",
   "name": "python3"
  },
  "language_info": {
   "codemirror_mode": {
    "name": "ipython",
    "version": 3
   },
   "file_extension": ".py",
   "mimetype": "text/x-python",
   "name": "python",
   "nbconvert_exporter": "python",
   "pygments_lexer": "ipython3",
   "version": "3.9.7"
  }
 },
 "nbformat": 4,
 "nbformat_minor": 5
}
