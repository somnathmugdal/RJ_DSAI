{
 "cells": [
  {
   "cell_type": "markdown",
   "id": "1e1cb4e4",
   "metadata": {},
   "source": [
    "# Variable Names\n",
    "\n",
    "- A variable name must start with a letter or the underscore character.\n",
    "- A variable name cannot start with a number.\n",
    "- A variable name can only contain alpha-numeric characters and underscores (A-z, 0-9, and _ )\n",
    "- Variable names are case-sensitive (age, Age and AGE are three different variables)\n",
    "\n",
    "# There are several are techniques you can used to create variables \n",
    "## 1. Camel case : \n",
    "- In camel case first word is intialized with small letter \n",
    "- and second word is intialized with capital letter \n",
    "- and third word is intialized with again small letter\n",
    "- and follow the hump like structure."
   ]
  },
  {
   "cell_type": "code",
   "execution_count": 5,
   "id": "ef7cb5ef",
   "metadata": {},
   "outputs": [
    {
     "name": "stdout",
     "output_type": "stream",
     "text": [
      "7\n"
     ]
    }
   ],
   "source": [
    "myHappyday = 7 #camel case\n",
    "print(myHappyday)"
   ]
  },
  {
   "cell_type": "markdown",
   "id": "ecab25b7",
   "metadata": {},
   "source": [
    "## 2. Pascal case  : \n",
    "- Each word start with a capital letter."
   ]
  },
  {
   "cell_type": "code",
   "execution_count": 6,
   "id": "ebbcdcde",
   "metadata": {},
   "outputs": [],
   "source": [
    "My_Happy_Place=\"08\""
   ]
  },
  {
   "cell_type": "markdown",
   "id": "b89b378a",
   "metadata": {},
   "source": [
    "## 3.Snake Case \n",
    "- Each word is separated by underscore(_) Character."
   ]
  },
  {
   "cell_type": "code",
   "execution_count": 8,
   "id": "fe657c1c",
   "metadata": {},
   "outputs": [
    {
     "name": "stdout",
     "output_type": "stream",
     "text": [
      "Soma\n"
     ]
    }
   ],
   "source": [
    "my_happy_day = \"Soma\"\n",
    "print(my_happy_day)"
   ]
  },
  {
   "cell_type": "markdown",
   "id": "90fbc07f",
   "metadata": {},
   "source": [
    "# Casting"
   ]
  },
  {
   "cell_type": "code",
   "execution_count": 9,
   "id": "e4bc0e32",
   "metadata": {},
   "outputs": [],
   "source": [
    "a=1\n",
    "b=2.4\n",
    "c='DSAI'"
   ]
  },
  {
   "cell_type": "code",
   "execution_count": 10,
   "id": "85834b43",
   "metadata": {},
   "outputs": [
    {
     "name": "stdout",
     "output_type": "stream",
     "text": [
      "<class 'int'>\n",
      "<class 'float'>\n",
      "<class 'str'>\n"
     ]
    }
   ],
   "source": [
    "print(type(a))\n",
    "print(type(b))\n",
    "print(type(c))"
   ]
  },
  {
   "cell_type": "code",
   "execution_count": 11,
   "id": "0d6cb558",
   "metadata": {},
   "outputs": [
    {
     "name": "stdout",
     "output_type": "stream",
     "text": [
      "DSAI\n",
      "5\n",
      "#@$\n"
     ]
    }
   ],
   "source": [
    "a,b,c = 'DSAI','5','#@$'\n",
    "print(a)\n",
    "print(b)\n",
    "print(c)"
   ]
  },
  {
   "cell_type": "code",
   "execution_count": 13,
   "id": "83032574",
   "metadata": {},
   "outputs": [
    {
     "name": "stdout",
     "output_type": "stream",
     "text": [
      "DSAI\n",
      "DSAI\n",
      "DSAI\n"
     ]
    }
   ],
   "source": [
    "a=b=c = \"DSAI\" # valeues_over_write\n",
    "print(a)\n",
    "print(b)\n",
    "print(c)"
   ]
  },
  {
   "cell_type": "code",
   "execution_count": 16,
   "id": "fbd697ed",
   "metadata": {},
   "outputs": [
    {
     "name": "stdout",
     "output_type": "stream",
     "text": [
      "['Fish', 'Fruits', 'Cheese', 'Butter']\n"
     ]
    }
   ],
   "source": [
    "bazzar = ['Fish','Fruits',\"Cheese\",\"Butter\"] #list\n",
    "print(bazzar)"
   ]
  },
  {
   "cell_type": "code",
   "execution_count": 18,
   "id": "0194a816",
   "metadata": {},
   "outputs": [
    {
     "name": "stdout",
     "output_type": "stream",
     "text": [
      "Fish\n",
      "Fruits\n",
      "Cheese\n",
      "Butter\n"
     ]
    }
   ],
   "source": [
    "a,b,c,d = bazzar  #list\n",
    "print(a)\n",
    "print(b)\n",
    "print(c)\n",
    "print(d)"
   ]
  },
  {
   "cell_type": "code",
   "execution_count": 19,
   "id": "408feaa3",
   "metadata": {},
   "outputs": [],
   "source": [
    "animals = ['Snake','Elephant','Frog','Worm','Mud Frog'] #list unpack"
   ]
  },
  {
   "cell_type": "code",
   "execution_count": 20,
   "id": "e1450731",
   "metadata": {},
   "outputs": [
    {
     "ename": "ValueError",
     "evalue": "too many values to unpack (expected 3)",
     "output_type": "error",
     "traceback": [
      "\u001b[1;31m---------------------------------------------------------------------------\u001b[0m",
      "\u001b[1;31mValueError\u001b[0m                                Traceback (most recent call last)",
      "\u001b[1;32m~\\AppData\\Local\\Temp/ipykernel_12696/105002373.py\u001b[0m in \u001b[0;36m<module>\u001b[1;34m\u001b[0m\n\u001b[1;32m----> 1\u001b[1;33m \u001b[0mraptiles\u001b[0m\u001b[1;33m,\u001b[0m\u001b[0mmammals\u001b[0m\u001b[1;33m,\u001b[0m\u001b[0mamphibiance\u001b[0m \u001b[1;33m=\u001b[0m \u001b[0manimals\u001b[0m\u001b[1;33m\u001b[0m\u001b[1;33m\u001b[0m\u001b[0m\n\u001b[0m",
      "\u001b[1;31mValueError\u001b[0m: too many values to unpack (expected 3)"
     ]
    }
   ],
   "source": [
    "raptiles,mammals,amphibiance = animals"
   ]
  },
  {
   "cell_type": "code",
   "execution_count": 22,
   "id": "eaef589d",
   "metadata": {},
   "outputs": [],
   "source": [
    "raptiles,mammals,*amphibiance = animals #astrik is use  to pack many value to one varibles"
   ]
  },
  {
   "cell_type": "code",
   "execution_count": 23,
   "id": "cb28fb34",
   "metadata": {},
   "outputs": [
    {
     "name": "stdout",
     "output_type": "stream",
     "text": [
      "Snake\n",
      "Elephant\n",
      "['Frog', 'Worm', 'Mud Frog']\n"
     ]
    }
   ],
   "source": [
    "print(raptiles)\n",
    "print(mammals)\n",
    "print(amphibiance)"
   ]
  },
  {
   "cell_type": "code",
   "execution_count": 25,
   "id": "1fa62bb8",
   "metadata": {},
   "outputs": [
    {
     "name": "stdout",
     "output_type": "stream",
     "text": [
      "<class 'str'>\n",
      "<class 'list'>\n"
     ]
    }
   ],
   "source": [
    "print(type(mammals))\n",
    "print(type(amphibiance))"
   ]
  },
  {
   "cell_type": "code",
   "execution_count": 26,
   "id": "b478f879",
   "metadata": {},
   "outputs": [],
   "source": [
    "food = ['apple','ginger','garlic','cumin','fish']"
   ]
  },
  {
   "cell_type": "code",
   "execution_count": 27,
   "id": "549db623",
   "metadata": {},
   "outputs": [
    {
     "name": "stdout",
     "output_type": "stream",
     "text": [
      "apple\n",
      "['ginger', 'garlic', 'cumin']\n",
      "fish\n"
     ]
    }
   ],
   "source": [
    "fruit,*vegitables,non_veg=food #to break list add varible ahead of it.\n",
    "print(fruit)\n",
    "print(vegitables)\n",
    "print(non_veg)"
   ]
  },
  {
   "cell_type": "markdown",
   "id": "f3844f1b",
   "metadata": {},
   "source": [
    "# Concatination\n",
    "\n",
    "# Global variable \n",
    "- The variables which created outside of the function .\n",
    "- Global variable can be use by every one, both inside of the function and out side of the function.\n"
   ]
  },
  {
   "cell_type": "code",
   "execution_count": 29,
   "id": "8debaab7",
   "metadata": {},
   "outputs": [
    {
     "name": "stdout",
     "output_type": "stream",
     "text": [
      " class:DSAI\n"
     ]
    }
   ],
   "source": [
    "\n",
    "a=\"DSAI\"\n",
    "\n",
    "def msc():\n",
    "    a=\"CS\"\n",
    "    #print(\" class: \\n\" +a)\n",
    "msc()\n",
    "print(\" class:\"+a)\n"
   ]
  },
  {
   "cell_type": "markdown",
   "id": "69fdb363",
   "metadata": {},
   "source": [
    "# Local variable \n",
    "- They are the variables which created inside the function and this variable will be accessable with in the function.\n"
   ]
  },
  {
   "cell_type": "code",
   "execution_count": 32,
   "id": "abd2d0ea",
   "metadata": {},
   "outputs": [
    {
     "name": "stdout",
     "output_type": "stream",
     "text": [
      " class: CS\n"
     ]
    }
   ],
   "source": [
    "a=\"DSAI\"\n",
    "\n",
    "def msc():\n",
    "    a=\"CS\"\n",
    "    print(\" class: \" +a)\n",
    "msc()\n",
    "#print(\" class: \\n\"+a)"
   ]
  },
  {
   "cell_type": "code",
   "execution_count": null,
   "id": "17541f26",
   "metadata": {},
   "outputs": [],
   "source": []
  }
 ],
 "metadata": {
  "kernelspec": {
   "display_name": "Python 3 (ipykernel)",
   "language": "python",
   "name": "python3"
  },
  "language_info": {
   "codemirror_mode": {
    "name": "ipython",
    "version": 3
   },
   "file_extension": ".py",
   "mimetype": "text/x-python",
   "name": "python",
   "nbconvert_exporter": "python",
   "pygments_lexer": "ipython3",
   "version": "3.9.7"
  }
 },
 "nbformat": 4,
 "nbformat_minor": 5
}
